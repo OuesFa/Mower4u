{
 "cells": [
  {
   "cell_type": "code",
   "execution_count": 1,
   "metadata": {
    "collapsed": true
   },
   "outputs": [],
   "source": [
    "%matplotlib inline\n",
    "import matplotlib as mpl\n",
    "import matplotlib.pyplot as plt\n",
    "import seaborn as sns\n",
    "import pandas as pd\n",
    "import numpy as np"
   ]
  },
  {
   "cell_type": "markdown",
   "metadata": {},
   "source": [
    "# I. Table de données brutes "
   ]
  },
  {
   "cell_type": "markdown",
   "metadata": {},
   "source": [
    "#### Dans cette étape, on va fusionner les deux bases de données (celle d'apprentissage et celle de test), afin d'étudier les données dans leur ensemble (nous mettrons en place plusieurs techniques d'apprentissage par la suite, en distinguant bien ces deux bases, pour avoir le modèle le plus performant possible)."
   ]
  },
  {
   "cell_type": "code",
   "execution_count": 2,
   "metadata": {
    "collapsed": false
   },
   "outputs": [],
   "source": [
    "train = pd.read_csv(\"mower_market_datasets/mower_market_snapshot.csv\", sep=\";\")"
   ]
  },
  {
   "cell_type": "code",
   "execution_count": 3,
   "metadata": {
    "collapsed": true
   },
   "outputs": [],
   "source": [
    "prod = pd.read_csv(\"mower_market_datasets/submission_set.csv\", sep=\";\")"
   ]
  },
  {
   "cell_type": "code",
   "execution_count": 4,
   "metadata": {
    "collapsed": true
   },
   "outputs": [],
   "source": [
    "#Merging des bases de train et de test pour étudier les données dans leur ensemble.\n",
    "data=pd.concat([train,prod])\n",
    "#data=data.reset_index().set_index('id')"
   ]
  },
  {
   "cell_type": "code",
   "execution_count": 5,
   "metadata": {
    "collapsed": false
   },
   "outputs": [
    {
     "data": {
      "text/plain": [
       "Index([u'attractiveness', u'capacity', u'failure_rate', u'id', u'margin',\n",
       "       u'market_share', u'price', u'prod_cost', u'product_type', u'quality',\n",
       "       u'warranty'],\n",
       "      dtype='object')"
      ]
     },
     "execution_count": 5,
     "metadata": {},
     "output_type": "execute_result"
    }
   ],
   "source": [
    "data.columns"
   ]
  },
  {
   "cell_type": "markdown",
   "metadata": {},
   "source": [
    "La première question que nous pouvons nous poser concerne la taille du dataset, et le type des colonnes. Ce dataset contient 1399 tondeuses, caractérisées par onze variables. Une variable est numérique discrète (int64), six sont numériques continues (float64), les autres sont encodées sour forme de texte (object). Ces informations ne préjugent pas du type des variables : quantitative, catégorielle, texte libre..."
   ]
  },
  {
   "cell_type": "code",
   "execution_count": 6,
   "metadata": {
    "collapsed": false,
    "scrolled": true
   },
   "outputs": [
    {
     "name": "stdout",
     "output_type": "stream",
     "text": [
      "<class 'pandas.core.frame.DataFrame'>\n",
      "RangeIndex: 1399 entries, 0 to 1398\n",
      "Data columns (total 11 columns):\n",
      "capacity          1399 non-null float64\n",
      "failure_rate      1399 non-null float64\n",
      "id                1399 non-null int64\n",
      "margin            1399 non-null float64\n",
      "price             1399 non-null float64\n",
      "prod_cost         1381 non-null object\n",
      "product_type      1399 non-null object\n",
      "quality           1399 non-null object\n",
      "warranty          1399 non-null object\n",
      "market_share      1399 non-null float64\n",
      "attractiveness    1399 non-null float64\n",
      "dtypes: float64(6), int64(1), object(4)\n",
      "memory usage: 120.3+ KB\n"
     ]
    }
   ],
   "source": [
    "train.info()"
   ]
  },
  {
   "cell_type": "markdown",
   "metadata": {},
   "source": [
    "Néanmoins, il est prudent de préter attention aux données numériques qui peuvent tout aussi bien être catégorielles si notamment à valeurs dans un espace discret."
   ]
  },
  {
   "cell_type": "code",
   "execution_count": 7,
   "metadata": {
    "collapsed": false,
    "scrolled": false
   },
   "outputs": [
    {
     "name": "stdout",
     "output_type": "stream",
     "text": [
      "La variable numérique capacity prend 1999 valeurs uniques.\n",
      "La variable numérique failure_rate prend 1999 valeurs uniques.\n",
      "La variable numérique id prend 1999 valeurs uniques.\n",
      "La variable numérique margin prend 1999 valeurs uniques.\n",
      "La variable numérique price prend 1999 valeurs uniques.\n",
      "La variable numérique market_share prend 1999 valeurs uniques.\n",
      "La variable numérique attractiveness prend 1999 valeurs uniques.\n"
     ]
    }
   ],
   "source": [
    "#nombre de valeurs uniques pour les champs :\n",
    "liste_var=['capacity','failure_rate','id','margin',\n",
    "        'price','market_share','attractiveness']\n",
    "\n",
    "for variable in liste_var:\n",
    "    print('La variable numérique %s prend %s valeurs uniques.' %(variable,len(set(data[variable]))))"
   ]
  },
  {
   "cell_type": "markdown",
   "metadata": {},
   "source": [
    "# II. Analyse des données"
   ]
  },
  {
   "cell_type": "markdown",
   "metadata": {},
   "source": [
    "À présent, faisons de la statistique descriptive basique sur nos donnnées (moyenne, écart-type, quartiles, etc). Nous remarquons que la tondeuse moyenne a une capacité de 47 litres, coûte 260 euros, qu'elle a un taux de panne moyen de 0.16 et dégagerait une marge de 186 euros."
   ]
  },
  {
   "cell_type": "code",
   "execution_count": 8,
   "metadata": {
    "collapsed": false,
    "scrolled": true
   },
   "outputs": [
    {
     "data": {
      "text/html": [
       "<div>\n",
       "<table border=\"1\" class=\"dataframe\">\n",
       "  <thead>\n",
       "    <tr style=\"text-align: right;\">\n",
       "      <th></th>\n",
       "      <th>capacity</th>\n",
       "      <th>failure_rate</th>\n",
       "      <th>id</th>\n",
       "      <th>margin</th>\n",
       "      <th>price</th>\n",
       "      <th>market_share</th>\n",
       "      <th>attractiveness</th>\n",
       "    </tr>\n",
       "  </thead>\n",
       "  <tbody>\n",
       "    <tr>\n",
       "      <th>count</th>\n",
       "      <td>1399.000000</td>\n",
       "      <td>1399.000000</td>\n",
       "      <td>1399.000000</td>\n",
       "      <td>1399.000000</td>\n",
       "      <td>1399.000000</td>\n",
       "      <td>1399.000000</td>\n",
       "      <td>1399.000000</td>\n",
       "    </tr>\n",
       "    <tr>\n",
       "      <th>mean</th>\n",
       "      <td>47.663266</td>\n",
       "      <td>0.166448</td>\n",
       "      <td>18958.000000</td>\n",
       "      <td>186.262609</td>\n",
       "      <td>260.075165</td>\n",
       "      <td>0.002144</td>\n",
       "      <td>0.636507</td>\n",
       "    </tr>\n",
       "    <tr>\n",
       "      <th>std</th>\n",
       "      <td>19.840501</td>\n",
       "      <td>0.073605</td>\n",
       "      <td>404.000825</td>\n",
       "      <td>191.011102</td>\n",
       "      <td>259.949127</td>\n",
       "      <td>0.001790</td>\n",
       "      <td>0.124016</td>\n",
       "    </tr>\n",
       "    <tr>\n",
       "      <th>min</th>\n",
       "      <td>0.013884</td>\n",
       "      <td>0.028906</td>\n",
       "      <td>18259.000000</td>\n",
       "      <td>52.943989</td>\n",
       "      <td>62.162200</td>\n",
       "      <td>0.000564</td>\n",
       "      <td>0.297384</td>\n",
       "    </tr>\n",
       "    <tr>\n",
       "      <th>25%</th>\n",
       "      <td>35.853890</td>\n",
       "      <td>0.095678</td>\n",
       "      <td>18608.500000</td>\n",
       "      <td>62.247602</td>\n",
       "      <td>73.379425</td>\n",
       "      <td>0.001135</td>\n",
       "      <td>0.549369</td>\n",
       "    </tr>\n",
       "    <tr>\n",
       "      <th>50%</th>\n",
       "      <td>50.309242</td>\n",
       "      <td>0.199796</td>\n",
       "      <td>18958.000000</td>\n",
       "      <td>66.299672</td>\n",
       "      <td>78.439753</td>\n",
       "      <td>0.001399</td>\n",
       "      <td>0.641351</td>\n",
       "    </tr>\n",
       "    <tr>\n",
       "      <th>75%</th>\n",
       "      <td>61.905015</td>\n",
       "      <td>0.228011</td>\n",
       "      <td>19307.500000</td>\n",
       "      <td>265.370973</td>\n",
       "      <td>384.265263</td>\n",
       "      <td>0.002446</td>\n",
       "      <td>0.726746</td>\n",
       "    </tr>\n",
       "    <tr>\n",
       "      <th>max</th>\n",
       "      <td>104.614865</td>\n",
       "      <td>0.302465</td>\n",
       "      <td>19657.000000</td>\n",
       "      <td>790.012898</td>\n",
       "      <td>964.973926</td>\n",
       "      <td>0.009314</td>\n",
       "      <td>0.952877</td>\n",
       "    </tr>\n",
       "  </tbody>\n",
       "</table>\n",
       "</div>"
      ],
      "text/plain": [
       "          capacity  failure_rate            id       margin        price  \\\n",
       "count  1399.000000   1399.000000   1399.000000  1399.000000  1399.000000   \n",
       "mean     47.663266      0.166448  18958.000000   186.262609   260.075165   \n",
       "std      19.840501      0.073605    404.000825   191.011102   259.949127   \n",
       "min       0.013884      0.028906  18259.000000    52.943989    62.162200   \n",
       "25%      35.853890      0.095678  18608.500000    62.247602    73.379425   \n",
       "50%      50.309242      0.199796  18958.000000    66.299672    78.439753   \n",
       "75%      61.905015      0.228011  19307.500000   265.370973   384.265263   \n",
       "max     104.614865      0.302465  19657.000000   790.012898   964.973926   \n",
       "\n",
       "       market_share  attractiveness  \n",
       "count   1399.000000     1399.000000  \n",
       "mean       0.002144        0.636507  \n",
       "std        0.001790        0.124016  \n",
       "min        0.000564        0.297384  \n",
       "25%        0.001135        0.549369  \n",
       "50%        0.001399        0.641351  \n",
       "75%        0.002446        0.726746  \n",
       "max        0.009314        0.952877  "
      ]
     },
     "execution_count": 8,
     "metadata": {},
     "output_type": "execute_result"
    }
   ],
   "source": [
    "train.describe()"
   ]
  },
  {
   "cell_type": "markdown",
   "metadata": {},
   "source": [
    "# III. Data visualisation "
   ]
  },
  {
   "cell_type": "markdown",
   "metadata": {},
   "source": [
    "Dans ce premier traitement, nous comptons le nombre de valeurs absentes pour chaque variable. Pandas interprète comme des NaN l'absence de valeurs. Énumérons ainsi l'ensemble des NaN pour chaque variable. Nous remarquons que la variable \"prod_cost\" contient 18 valeurs manquantes, d'autres variables sont absentes (\"attractiveness\" a exactement 600 valeurs absentes ; ce qui est logique puisqu'il s'agit des données à prédire, pareil pour \"market_share\")."
   ]
  },
  {
   "cell_type": "code",
   "execution_count": 9,
   "metadata": {
    "collapsed": false
   },
   "outputs": [
    {
     "data": {
      "text/plain": [
       "<matplotlib.axes._subplots.AxesSubplot at 0x7f595e673790>"
      ]
     },
     "execution_count": 9,
     "metadata": {},
     "output_type": "execute_result"
    },
    {
     "data": {
      "image/png": "[encoded data removed]",
      "text/plain": [
       "<matplotlib.figure.Figure at 0x7f595e673b90>"
      ]
     },
     "metadata": {},
     "output_type": "display_data"
    }
   ],
   "source": [
    "data.isnull().sum().plot(kind=\"barh\")"
   ]
  },
  {
   "cell_type": "markdown",
   "metadata": {},
   "source": [
    "Hors mi la variable \"prod_cost\", les données ne contiennent quasimment pas de valeurs nulles. \n",
    "Ce qui nous enlève déjà une épine du pied."
   ]
  },
  {
   "cell_type": "code",
   "execution_count": 10,
   "metadata": {
    "collapsed": false,
    "scrolled": true
   },
   "outputs": [
    {
     "data": {
      "text/plain": [
       "<matplotlib.axes._subplots.AxesSubplot at 0x7f595bb3eed0>"
      ]
     },
     "execution_count": 10,
     "metadata": {},
     "output_type": "execute_result"
    },
    {
     "data": {
      "image/png": "[encoded data removed]",
      "text/plain": [
       "<matplotlib.figure.Figure at 0x7f595badc6d0>"
      ]
     },
     "metadata": {},
     "output_type": "display_data"
    }
   ],
   "source": [
    "train.count().plot(kind=\"barh\")"
   ]
  },
  {
   "cell_type": "markdown",
   "metadata": {},
   "source": [
    "Dans notre cas les données de \"prod\" sont propres, pas de NaN, pas de modalités mal formatées etc.\n",
    "Comme dans un contexte d'entreprise c'est très rarement le cas, on mettra en place un pipeline qui soit un minimum résilient face à ce genre de problématques."
   ]
  },
  {
   "cell_type": "markdown",
   "metadata": {},
   "source": [
    "## Etude de certains champs\n",
    "On cherche à visulaliser simplement la distribution de certains champs \n",
    "\n",
    "\"quality\", \"warranty\", \"product_type\" et \"margin\"\n",
    "\n",
    "On cherche à observer les valeurs les plus courantes"
   ]
  },
  {
   "cell_type": "code",
   "execution_count": 11,
   "metadata": {
    "collapsed": false,
    "scrolled": false
   },
   "outputs": [
    {
     "data": {
      "text/plain": [
       "<matplotlib.axes._subplots.AxesSubplot at 0x7f595b80c450>"
      ]
     },
     "execution_count": 11,
     "metadata": {},
     "output_type": "execute_result"
    },
    {
     "data": {
      "image/png": "[encoded data removed]",
      "text/plain": [
       "<matplotlib.figure.Figure at 0x7f595b9a6590>"
      ]
     },
     "metadata": {},
     "output_type": "display_data"
    }
   ],
   "source": [
    "sns.set(style=\"darkgrid\")\n",
    "fig, axs = plt.subplots(2,2, figsize=(10, 10), facecolor='w', edgecolor='k')\n",
    "fig.subplots_adjust(hspace = .5, wspace=.7)\n",
    "\n",
    "axs=axs.ravel()\n",
    "\n",
    "i=0\n",
    "liste_champs=['quality','warranty','product_type']\n",
    "for champs in liste_champs:\n",
    "    a=sns.countplot(y=champs,\n",
    "                   order=train[champs].value_counts().index,data=train,palette='Blues_d',ax=axs[i])\n",
    "    a.set_title('Comptage pour les %s du dataset global' %(champs))\n",
    "    i=i+1\n",
    "    \n",
    "a = sns.countplot(x=\"quality\", order=train['quality'].value_counts().sort_index().index[0:40],data=train,palette='Blues_d',\n",
    "                 ax=axs[3])\n",
    "a.set_title('Representation de la marge')\n",
    "l=[int(i) for i in list(train['margin'].value_counts().sort_index().index)]\n",
    "#a.axes.get_xaxis().set_ticks(l[0:40:2])\n",
    "a.set_xticklabels(l[0:40])\n",
    "plt.setp(a.get_xticklabels(), fontsize=7, rotation='vertical')\n",
    "a"
   ]
  },
  {
   "cell_type": "markdown",
   "metadata": {},
   "source": [
    "- Pairgrid relations\n",
    "\n",
    "On cherche à présenter les différentes relations entre variables numériques."
   ]
  },
  {
   "cell_type": "code",
   "execution_count": 12,
   "metadata": {
    "collapsed": false
   },
   "outputs": [
    {
     "data": {
      "text/plain": [
       "<seaborn.axisgrid.PairGrid at 0x7f595bad2a90>"
      ]
     },
     "execution_count": 12,
     "metadata": {},
     "output_type": "execute_result"
    },
    {
     "data": {
      "image/png": "[encoded data removed]",
      "text/plain": [
       "<matplotlib.figure.Figure at 0x7f595bad2a10>"
      ]
     },
     "metadata": {},
     "output_type": "display_data"
    }
   ],
   "source": [
    "g = sns.PairGrid(train)\n",
    "g.map(plt.scatter)"
   ]
  },
  {
   "cell_type": "markdown",
   "metadata": {},
   "source": [
    "<b> Pas de relations linéaires qui se dégagent entre les variables."
   ]
  },
  {
   "cell_type": "markdown",
   "metadata": {},
   "source": [
    "- Matrice de corrélation"
   ]
  },
  {
   "cell_type": "markdown",
   "metadata": {},
   "source": [
    "De façon plus lisible on cherche à visualiser les corrélations entre variables."
   ]
  },
  {
   "cell_type": "code",
   "execution_count": 13,
   "metadata": {
    "collapsed": false,
    "scrolled": false
   },
   "outputs": [
    {
     "data": {
      "text/plain": [
       "<matplotlib.text.Text at 0x7f595886b2d0>"
      ]
     },
     "execution_count": 13,
     "metadata": {},
     "output_type": "execute_result"
    },
    {
     "data": {
      "image/png": "[encoded data removed]",
      "text/plain": [
       "<matplotlib.figure.Figure at 0x7f5959149cd0>"
      ]
     },
     "metadata": {},
     "output_type": "display_data"
    }
   ],
   "source": [
    "#Calcul de la matrice de corrélation\n",
    "corr = train.corr()\n",
    "\n",
    "#Mask pour la partie supérieur de la heatmap\n",
    "#à de la symétrie de la matrice\n",
    "mask = np.zeros_like(corr, dtype=np.bool)\n",
    "mask[np.triu_indices_from(mask)] = True\n",
    "sns.set(style=\"white\")\n",
    "\n",
    "#Init\n",
    "f, ax = plt.subplots(figsize=(10, 9))\n",
    "\n",
    "#Generer une color map\n",
    "cmap = sns.diverging_palette(220, 10, as_cmap=True)\n",
    "\n",
    "#plot la matrice de correlation\n",
    "sns.heatmap(corr, mask=mask, cmap=cmap, vmax=1,\n",
    "            square=True, linewidths=.5, cbar_kws={\"shrink\": .5},ax=ax)\n",
    "            #xticklabels=corr.columns, yticklabels=corr.columns,\n",
    "ax.set_title('Correlation Heatmap')"
   ]
  },
  {
   "cell_type": "markdown",
   "metadata": {},
   "source": [
    "<b>- Très forte corrélation positive entre la marge et le prix.\n",
    "\n",
    "<b>- La cible à prédire c-à-d l'attractiveness est modérément corrélée positivement avec la marge et le prix  (puisque ces derniers vont de paire) et négativement corrélée avec le taux de panne.\n",
    "\n",
    "<b>- L'id technique' ne semble être corrélé à aucune variable du dataset, ce qui est logique."
   ]
  },
  {
   "cell_type": "code",
   "execution_count": 14,
   "metadata": {
    "collapsed": false
   },
   "outputs": [
    {
     "data": {
      "text/plain": [
       "<matplotlib.axes._subplots.AxesSubplot at 0x7f595923fa90>"
      ]
     },
     "execution_count": 14,
     "metadata": {},
     "output_type": "execute_result"
    },
    {
     "data": {
      "image/png": "[encoded data removed]",
      "text/plain": [
       "<matplotlib.figure.Figure at 0x7f595b96d0d0>"
      ]
     },
     "metadata": {},
     "output_type": "display_data"
    }
   ],
   "source": [
    "#fig, axs = plt.subplots(1,2)\n",
    "train.capacity.hist(bins=10)\n",
    "prod.capacity.hist(bins=10)"
   ]
  },
  {
   "cell_type": "markdown",
   "metadata": {},
   "source": [
    "La distribution de la variable \"capacity\" est semblable sur les data set de train et de prod, il en est également de même pour les autres variables."
   ]
  },
  {
   "cell_type": "markdown",
   "metadata": {},
   "source": [
    "# IV. Gestion des données manquantes et des variables catégorielles"
   ]
  },
  {
   "cell_type": "markdown",
   "metadata": {},
   "source": [
    "La variable \"warranty\" contient des données mal formatées, l'idée est donc de normaliser en fixant des modalités de réference, en l'occurence 1, 2 et 3 qui correspondent respectivement à 1 an, 2 ans et 3 ans.\n",
    "NB: On appliquera les mêmes changements sur les données de \"prod\" pour être ISO."
   ]
  },
  {
   "cell_type": "code",
   "execution_count": 15,
   "metadata": {
    "collapsed": false,
    "scrolled": true
   },
   "outputs": [
    {
     "data": {
      "text/plain": [
       "1 an      456\n",
       "2 ans     233\n",
       "1 an.     103\n",
       "1_ans      96\n",
       "1_an.      95\n",
       "1an        94\n",
       "1ans       94\n",
       "1_an       91\n",
       "1 ans      86\n",
       "1an.       84\n",
       "3 ans      81\n",
       "2ans.      54\n",
       "2 anss     52\n",
       "2_anss     51\n",
       "2 ans.     45\n",
       "2_ans      43\n",
       "2ans       42\n",
       "2_ans.     41\n",
       "2anss      37\n",
       "3 anss     21\n",
       "3_ans.     19\n",
       "3ans       17\n",
       "3 ans.     14\n",
       "3_ans      14\n",
       "3_anss     12\n",
       "3anss      12\n",
       "3ans.      12\n",
       "Name: warranty, dtype: int64"
      ]
     },
     "execution_count": 15,
     "metadata": {},
     "output_type": "execute_result"
    }
   ],
   "source": [
    "data.warranty.value_counts()"
   ]
  },
  {
   "cell_type": "markdown",
   "metadata": {},
   "source": [
    "La variable \"prod_cost\" représente le coût de production et est cénsée être une variable quantitative continue.\n",
    "Ainsi l'idée est de transformer les modalités \"unknown\" en valeurs nulles pour ensuite pouvoir les imputer."
   ]
  },
  {
   "cell_type": "code",
   "execution_count": 16,
   "metadata": {
    "collapsed": false,
    "scrolled": true
   },
   "outputs": [
    {
     "data": {
      "text/plain": [
       "0                     20\n",
       "-64                   18\n",
       "unknown               13\n",
       "138.22724867280962     1\n",
       "121.3167171267889      1\n",
       "8.266586983283412      1\n",
       "12.107481828856644     1\n",
       "10.933183358482284     1\n",
       "126.22298196541414     1\n",
       "136.09227355119208     1\n",
       "11.512823562500943     1\n",
       "10.91631275377759      1\n",
       "10.95931454374711      1\n",
       "11.394834175948349     1\n",
       "116.88769410044642     1\n",
       "116.52955498915016     1\n",
       "162.06122034931462     1\n",
       "9.755177164057805      1\n",
       "11.678049782822576     1\n",
       "106.92550107378732     1\n",
       "95.37390049789022      1\n",
       "12.132259242980687     1\n",
       "8.372005013545216      1\n",
       "11.507333914069772     1\n",
       "11.381958741921819     1\n",
       "11.511371336816282     1\n",
       "139.44611974434014     1\n",
       "12.081637589945272     1\n",
       "109.5714815298702      1\n",
       "12.594031907573186     1\n",
       "                      ..\n",
       "10.57299720303393      1\n",
       "115.47461004482957     1\n",
       "9.875428908087356      1\n",
       "11.62910239899752      1\n",
       "153.43139149724738     1\n",
       "13.281775240616417     1\n",
       "10.728412300486093     1\n",
       "115.58024359115775     1\n",
       "11.471062726146465     1\n",
       "117.78376950991793     1\n",
       "11.194321846795665     1\n",
       "119.22207921356276     1\n",
       "8.536633990796986      1\n",
       "108.4748595535856      1\n",
       "172.94399844867755     1\n",
       "10.557273315824688     1\n",
       "11.140178861008604     1\n",
       "11.8156676176916       1\n",
       "101.85721377853646     1\n",
       "109.46944135418268     1\n",
       "121.23458763331499     1\n",
       "10.16629062653267      1\n",
       "12.466074448550735     1\n",
       "114.76887078258865     1\n",
       "10.342818808645623     1\n",
       "10.37379934878558      1\n",
       "11.244524376631833     1\n",
       "8.25288772928784       1\n",
       "106.69305723692132     1\n",
       "11.219402772771668     1\n",
       "Name: prod_cost, dtype: int64"
      ]
     },
     "execution_count": 16,
     "metadata": {},
     "output_type": "execute_result"
    }
   ],
   "source": [
    "train.prod_cost.value_counts()"
   ]
  },
  {
   "cell_type": "markdown",
   "metadata": {},
   "source": [
    "Ci-dessous l'implémentation des deux classes permettant, respectivement, d'imputer les données nulles avec la valeur la plus fréquente en ce qui concerne les données catégorielles et puis la médiane pour les données continues."
   ]
  },
  {
   "cell_type": "code",
   "execution_count": 17,
   "metadata": {
    "collapsed": true
   },
   "outputs": [],
   "source": [
    "from sklearn.base import TransformerMixin\n",
    "\n",
    "class DataFrameImputer(TransformerMixin):\n",
    "\n",
    "    def __init__(self):\n",
    "        \"\"\"Impute missing values.\n",
    "\n",
    "        Columns of dtype object are imputed with the most frequent value \n",
    "        in column.\n",
    "\n",
    "        Columns of other types are imputed with median of column.\n",
    "\n",
    "        \"\"\"\n",
    "    def fit(self, X, y=None):\n",
    "\n",
    "        self.fill = pd.Series([X[c].value_counts().index[0]\n",
    "            if X[c].dtype == np.dtype('O') else X[c].median() for c in X],\n",
    "            index=X.columns)\n",
    "\n",
    "        return self\n",
    "\n",
    "    def transform(self, X, y=None):\n",
    "        return X.fillna(self.fill)"
   ]
  },
  {
   "cell_type": "code",
   "execution_count": 18,
   "metadata": {
    "collapsed": true
   },
   "outputs": [],
   "source": [
    "from sklearn.base import BaseEstimator, TransformerMixin\n",
    "from sklearn import preprocessing\n",
    "\n",
    "class EncodeCategorical(BaseEstimator, TransformerMixin):\n",
    "    \"\"\"\n",
    "    Encodes a specified list of columns or all columns if None.\n",
    "    \"\"\"\n",
    "\n",
    "    def __init__(self, columns=None):\n",
    "        self.columns  = columns\n",
    "        self.encoders = None\n",
    "\n",
    "    def fit(self, data, target=None):\n",
    "        \"\"\"\n",
    "        Expects a data frame with named columns to encode.\n",
    "        \"\"\"\n",
    "        # Encode all columns if columns is None\n",
    "        if self.columns is None:\n",
    "            self.columns = data.columns\n",
    "\n",
    "        # Fit a label encoder for each column in the data frame\n",
    "        self.encoders = {\n",
    "            column: preprocessing.LabelEncoder().fit(data[column])\n",
    "            for column in self.columns\n",
    "        }\n",
    "        return self\n",
    "\n",
    "    def transform(self, data):\n",
    "        \"\"\"\n",
    "        Uses the encoders to transform a data frame.\n",
    "        \"\"\"\n",
    "        output = data.copy()\n",
    "        for column, encoder in self.encoders.items():\n",
    "            output[column] = encoder.transform(data[column])\n",
    "\n",
    "        return output"
   ]
  },
  {
   "cell_type": "code",
   "execution_count": 19,
   "metadata": {
    "collapsed": false
   },
   "outputs": [
    {
     "data": {
      "text/plain": [
       "count    1399.000000\n",
       "mean        0.636507\n",
       "std         0.124016\n",
       "min         0.297384\n",
       "25%         0.549369\n",
       "50%         0.641351\n",
       "75%         0.726746\n",
       "max         0.952877\n",
       "Name: attractiveness, dtype: float64"
      ]
     },
     "execution_count": 19,
     "metadata": {},
     "output_type": "execute_result"
    }
   ],
   "source": [
    "train.attractiveness.describe()"
   ]
  },
  {
   "cell_type": "code",
   "execution_count": 20,
   "metadata": {
    "collapsed": false
   },
   "outputs": [
    {
     "data": {
      "text/plain": [
       "essence        844\n",
       "electrique     413\n",
       "auto-portee    142\n",
       "Name: product_type, dtype: int64"
      ]
     },
     "execution_count": 20,
     "metadata": {},
     "output_type": "execute_result"
    }
   ],
   "source": [
    "train.product_type.value_counts()"
   ]
  },
  {
   "cell_type": "code",
   "execution_count": 21,
   "metadata": {
    "collapsed": false
   },
   "outputs": [],
   "source": [
    "train.prod_cost = pd.to_numeric(train.prod_cost, errors='coerce')"
   ]
  },
  {
   "cell_type": "code",
   "execution_count": 22,
   "metadata": {
    "collapsed": false
   },
   "outputs": [
    {
     "data": {
      "text/plain": [
       "12.141744573126562"
      ]
     },
     "execution_count": 22,
     "metadata": {},
     "output_type": "execute_result"
    }
   ],
   "source": [
    "train.prod_cost.median()"
   ]
  },
  {
   "cell_type": "code",
   "execution_count": 23,
   "metadata": {
    "collapsed": false
   },
   "outputs": [
    {
     "data": {
      "text/plain": [
       "12.666095171601789"
      ]
     },
     "execution_count": 23,
     "metadata": {},
     "output_type": "execute_result"
    }
   ],
   "source": [
    "prod.prod_cost.median()"
   ]
  },
  {
   "cell_type": "markdown",
   "metadata": {},
   "source": [
    "# Gestion des données et modélisation"
   ]
  },
  {
   "cell_type": "markdown",
   "metadata": {},
   "source": [
    "La fonction suivante combine les manipulations qui seront faites sur les données avant de les passer à notre pipeline sklearn"
   ]
  },
  {
   "cell_type": "code",
   "execution_count": 24,
   "metadata": {
    "collapsed": true
   },
   "outputs": [],
   "source": [
    "def data_management(df):\n",
    "    ### Features engeneering\n",
    "    ### Format warranty \n",
    "    df.warranty = df.warranty.map(lambda x: int(filter(str.isdigit, x)))\n",
    "    \n",
    "    ### Convert prod_cost to numeric, transform errors into NaN values\n",
    "    df.prod_cost = pd.to_numeric(df.prod_cost, errors='coerce')\n",
    "    \n",
    "    ### Get estimator X & y\n",
    "    df = df.set_index('id')\n",
    "    features_df = df.drop(df[['attractiveness','market_share']], axis=1)\n",
    "    target = df['attractiveness']\n",
    "    return features_df, target"
   ]
  },
  {
   "cell_type": "code",
   "execution_count": 70,
   "metadata": {
    "collapsed": true
   },
   "outputs": [],
   "source": [
    "X, y = data_management(train.copy())"
   ]
  },
  {
   "cell_type": "markdown",
   "metadata": {},
   "source": [
    "Avant d'entamer la modélisation, il est nécessaire de définir notre métrique d'évaluation "
   ]
  },
  {
   "cell_type": "code",
   "execution_count": 25,
   "metadata": {
    "collapsed": true
   },
   "outputs": [],
   "source": [
    "from sklearn.metrics import mean_squared_error\n",
    "from math import sqrt\n",
    "\n",
    "# rmsle root-mean-square-logarithmic error\n",
    "def rmsle(y_true, y_pred):\n",
    "    assert len(y_true) == len(y_pred)\n",
    "    return np.sqrt(mean_squared_error(np.log(y_true+1), np.log(y_pred+1)))"
   ]
  },
  {
   "cell_type": "markdown",
   "metadata": {},
   "source": [
    "Echantillonage des données en train et test sets en fixant un état de Random figé."
   ]
  },
  {
   "cell_type": "code",
   "execution_count": 35,
   "metadata": {
    "collapsed": true
   },
   "outputs": [],
   "source": [
    "from sklearn.cross_validation import train_test_split \n",
    "X_train,X_test,y_train,y_test=train_test_split(X,y,random_state=42)"
   ]
  },
  {
   "cell_type": "code",
   "execution_count": 36,
   "metadata": {
    "collapsed": false,
    "scrolled": false
   },
   "outputs": [],
   "source": [
    "from sklearn.pipeline import Pipeline\n",
    "from sklearn.ensemble import RandomForestRegressor\n",
    "from sklearn.preprocessing import LabelEncoder\n",
    "from sklearn.linear_model import LinearRegression\n",
    "from sklearn.model_selection import GridSearchCV\n",
    "\n",
    "def create_pipeline(rg):  \n",
    "   \n",
    "    X_categorical_features = X.loc[:, X.dtypes == object]\n",
    "    # build the pipeline\n",
    "    return Pipeline([\n",
    "            ('encoder',  EncodeCategorical(X_categorical_features.keys())),\n",
    "            ('imputer', DataFrameImputer()),\n",
    "            #('classifier', RandomForestRegressor(n_estimators=200,  max_depth=8))\n",
    "            #('classifier', LinearRegression())\n",
    "            ('regressor', rg)\n",
    "        ])\n",
    "\n",
    "\n"
   ]
  },
  {
   "cell_type": "markdown",
   "metadata": {},
   "source": [
    "## A. Méthode Linéaire\n",
    "Approche la plus naïve"
   ]
  },
  {
   "cell_type": "code",
   "execution_count": 37,
   "metadata": {
    "collapsed": true
   },
   "outputs": [],
   "source": [
    "lr = LinearRegression()"
   ]
  },
  {
   "cell_type": "code",
   "execution_count": 38,
   "metadata": {
    "collapsed": true
   },
   "outputs": [],
   "source": [
    "pipe_lr = create_pipeline(lr)"
   ]
  },
  {
   "cell_type": "code",
   "execution_count": 39,
   "metadata": {
    "collapsed": false
   },
   "outputs": [
    {
     "data": {
      "text/plain": [
       "Pipeline(steps=[('encoder', EncodeCategorical(columns=Index([u'product_type', u'quality'], dtype='object'))), ('imputer', <__main__.DataFrameImputer object at 0x7f595417dc50>), ('regressor', LinearRegression(copy_X=True, fit_intercept=True, n_jobs=1, normalize=False))])"
      ]
     },
     "execution_count": 39,
     "metadata": {},
     "output_type": "execute_result"
    }
   ],
   "source": [
    "# fit the pipeline\n",
    "pipe_lr.fit(X_train, y_train)"
   ]
  },
  {
   "cell_type": "code",
   "execution_count": 40,
   "metadata": {
    "collapsed": true
   },
   "outputs": [],
   "source": [
    "y_pred = pipe_lr.predict(X_test)"
   ]
  },
  {
   "cell_type": "code",
   "execution_count": 42,
   "metadata": {
    "collapsed": false
   },
   "outputs": [
    {
     "name": "stdout",
     "output_type": "stream",
     "text": [
      "RMSLE error is: 0.076326258515\n",
      "CPU times: user 0 ns, sys: 0 ns, total: 0 ns\n",
      "Wall time: 2.82 ms\n"
     ]
    }
   ],
   "source": [
    "%%time\n",
    "print (\"RMSLE error is: \" + str(rmsle(y_test, y_pred)))"
   ]
  },
  {
   "cell_type": "code",
   "execution_count": 71,
   "metadata": {
    "collapsed": false
   },
   "outputs": [
    {
     "data": {
      "text/html": [
       "<div>\n",
       "<table border=\"1\" class=\"dataframe\">\n",
       "  <thead>\n",
       "    <tr style=\"text-align: right;\">\n",
       "      <th></th>\n",
       "      <th>features</th>\n",
       "      <th>estimated coefficients</th>\n",
       "    </tr>\n",
       "  </thead>\n",
       "  <tbody>\n",
       "    <tr>\n",
       "      <th>0</th>\n",
       "      <td>capacity</td>\n",
       "      <td>0.001851</td>\n",
       "    </tr>\n",
       "    <tr>\n",
       "      <th>1</th>\n",
       "      <td>failure_rate</td>\n",
       "      <td>0.586499</td>\n",
       "    </tr>\n",
       "    <tr>\n",
       "      <th>2</th>\n",
       "      <td>margin</td>\n",
       "      <td>-0.000157</td>\n",
       "    </tr>\n",
       "    <tr>\n",
       "      <th>3</th>\n",
       "      <td>price</td>\n",
       "      <td>-0.000045</td>\n",
       "    </tr>\n",
       "    <tr>\n",
       "      <th>4</th>\n",
       "      <td>prod_cost</td>\n",
       "      <td>-0.000439</td>\n",
       "    </tr>\n",
       "    <tr>\n",
       "      <th>5</th>\n",
       "      <td>product_type</td>\n",
       "      <td>-0.112589</td>\n",
       "    </tr>\n",
       "    <tr>\n",
       "      <th>6</th>\n",
       "      <td>quality</td>\n",
       "      <td>0.008356</td>\n",
       "    </tr>\n",
       "    <tr>\n",
       "      <th>7</th>\n",
       "      <td>warranty</td>\n",
       "      <td>0.112589</td>\n",
       "    </tr>\n",
       "  </tbody>\n",
       "</table>\n",
       "</div>"
      ],
      "text/plain": [
       "       features  estimated coefficients\n",
       "0      capacity                0.001851\n",
       "1  failure_rate                0.586499\n",
       "2        margin               -0.000157\n",
       "3         price               -0.000045\n",
       "4     prod_cost               -0.000439\n",
       "5  product_type               -0.112589\n",
       "6       quality                0.008356\n",
       "7      warranty                0.112589"
      ]
     },
     "execution_count": 71,
     "metadata": {},
     "output_type": "execute_result"
    }
   ],
   "source": [
    "pd.DataFrame(zip(X_train.columns, lr.coef_), columns=['features', 'estimated coefficients'])"
   ]
  },
  {
   "cell_type": "markdown",
   "metadata": {},
   "source": [
    "Le taux de panne impacte assez positivement la cible. Constat assez imprévu sur lequel on reviendra par la suite."
   ]
  },
  {
   "cell_type": "markdown",
   "metadata": {},
   "source": [
    "## B. Méthodes non-linéaires : méthodes ensemblistes\n",
    "Ici, nous allons faire usage de méthodes non-linéaires d'apprentissage automatique, et nous verrons quelle est la meilleure méthode en termes de performances (notamment en termes de taux d'erreur et de vitesse d'exécution)."
   ]
  },
  {
   "cell_type": "code",
   "execution_count": 99,
   "metadata": {
    "collapsed": false
   },
   "outputs": [],
   "source": [
    "from sklearn.ensemble import RandomForestRegressor, RandomForestRegressor, GradientBoostingRegressor \n",
    "from sklearn.cross_validation import KFold\n",
    "from sklearn.externals import joblib\n",
    "from sklearn.metrics import mean_squared_error\n",
    "import xgboost"
   ]
  },
  {
   "cell_type": "code",
   "execution_count": 101,
   "metadata": {
    "collapsed": false
   },
   "outputs": [
    {
     "name": "stdout",
     "output_type": "stream",
     "text": [
      "RMSLE error is: 0.0485440724118\n",
      "CPU times: user 1.83 s, sys: 0 ns, total: 1.83 s\n",
      "Wall time: 2.59 s\n"
     ]
    }
   ],
   "source": [
    "%%time\n",
    "from sklearn.ensemble import RandomForestRegressor\n",
    "rf = RandomForestRegressor(n_estimators=300, max_depth=7, n_jobs=-1, max_features=None,criterion='mse',\n",
    "                               min_samples_split=5,random_state=42)\n",
    "pipe_rf = create_pipeline(rf)\n",
    "# fit the pipeline\n",
    "pipe_rf.fit(X_train, y_train)\n",
    "y_pred = pipe_rf.predict(X_test)\n",
    "y_sub = pipe_rf.predict(X_test)\n",
    "print (\"RMSLE error is: \" + str(rmsle(y_test, y_pred)))"
   ]
  },
  {
   "cell_type": "markdown",
   "metadata": {},
   "source": [
    "- GridSearch et Cross Validation"
   ]
  },
  {
   "cell_type": "code",
   "execution_count": 53,
   "metadata": {
    "collapsed": false
   },
   "outputs": [
    {
     "name": "stdout",
     "output_type": "stream",
     "text": [
      "RMSLE error is: 0.0464112094496\n",
      "CPU times: user 22min 8s, sys: 916 ms, total: 22min 9s\n",
      "Wall time: 28min 45s\n"
     ]
    }
   ],
   "source": [
    "%%time\n",
    "rf = RandomForestRegressor(criterion='mse', max_features=None,random_state=42)\n",
    "n_estimators = [50, 100, 150, 200,300,400]\n",
    "max_depth = [2, 4, 6, 8,10]\n",
    "min_samples_split=[2,4,6,8]\n",
    "param_grid = dict(max_depth=max_depth, n_estimators=n_estimators, min_samples_split=min_samples_split)\n",
    "model = GridSearchCV(rf, param_grid, n_jobs=-1, cv=10,scoring='neg_mean_squared_error') #neg_mean_squared_error pour\n",
    "                                                                                        #sklearn > 0.18\n",
    "pipe_cv = create_pipeline(model)\n",
    "# fit the pipeline\n",
    "pipe_cv.fit(X_train, y_train)\n",
    "y_pred = pipe_cv.predict(X_test)\n",
    "print (\"RMSLE error is: \" + str(rmsle(y_test, y_pred)))"
   ]
  },
  {
   "cell_type": "code",
   "execution_count": 60,
   "metadata": {
    "collapsed": false
   },
   "outputs": [
    {
     "name": "stdout",
     "output_type": "stream",
     "text": [
      "Meilleur model utilisant {'min_samples_split': 2, 'n_estimators': 400, 'max_depth': 10}.\n"
     ]
    }
   ],
   "source": [
    "print(\"Meilleur model utilisant %s.\" % ( model.best_params_))"
   ]
  },
  {
   "cell_type": "markdown",
   "metadata": {},
   "source": [
    "Nous obtenons une RMSLE d'environ 0.046. L'erreur est très légèrement meilleure (entendre \"plus faible\") lorsque la profondeur est importante, néanmoins une grande profondeur tend à overfitter.\n",
    "\n",
    "=> Clairement intéressant au vu du temps de traitement nécessaire."
   ]
  },
  {
   "cell_type": "code",
   "execution_count": 56,
   "metadata": {
    "collapsed": false
   },
   "outputs": [
    {
     "name": "stdout",
     "output_type": "stream",
     "text": [
      "RMSLE error is: 0.0557996381858\n",
      "CPU times: user 1.2 s, sys: 4 ms, total: 1.2 s\n",
      "Wall time: 2.02 s\n"
     ]
    }
   ],
   "source": [
    "%%time\n",
    "from sklearn.ensemble import ExtraTreesRegressor\n",
    "\n",
    "et = ExtraTreesRegressor(n_estimators=300, criterion='mse',max_depth=7,n_jobs=-1,\n",
    "                         min_samples_split=5,max_features=None)\n",
    "\n",
    "pipe_et = create_pipeline(et)\n",
    "# fit the pipeline\n",
    "pipe_et.fit(X_train, y_train)\n",
    "y_pred = pipe_et.predict(X_test)\n",
    "print (\"RMSLE error is: \" + str(rmsle(y_test, y_pred)))"
   ]
  },
  {
   "cell_type": "markdown",
   "metadata": {},
   "source": [
    "- GridSearch et Cross Validation"
   ]
  },
  {
   "cell_type": "code",
   "execution_count": 58,
   "metadata": {
    "collapsed": false
   },
   "outputs": [
    {
     "name": "stdout",
     "output_type": "stream",
     "text": [
      "RMSLE error is: 0.0483096193751\n",
      "CPU times: user 13min 58s, sys: 340 ms, total: 13min 58s\n",
      "Wall time: 18min 9s\n"
     ]
    }
   ],
   "source": [
    "%%time\n",
    "et = ExtraTreesRegressor(criterion='mse',max_features=None)\n",
    "n_estimators = [100, 150, 200,300,400]\n",
    "max_depth = [4, 6, 8,10]\n",
    "min_samples_split=[2,4,6,8]\n",
    "param_grid = dict(max_depth=max_depth, n_estimators=n_estimators, min_samples_split=min_samples_split)\n",
    "model_et = GridSearchCV(et, param_grid, n_jobs=-1, cv=10,scoring='neg_mean_squared_error')\n",
    "pipe_et_cv = create_pipeline(model_et)\n",
    "# fit the pipeline\n",
    "pipe_et_cv.fit(X_train, y_train)\n",
    "y_pred = pipe_et_cv.predict(X_test)\n",
    "print (\"RMSLE error is: \" + str(rmsle(y_test, y_pred)))"
   ]
  },
  {
   "cell_type": "markdown",
   "metadata": {},
   "source": [
    "Nous obtenons une RMSLE d'environ 0.048.\n",
    "\n",
    "=> Résultat décevant également."
   ]
  },
  {
   "cell_type": "code",
   "execution_count": 100,
   "metadata": {
    "collapsed": false,
    "scrolled": false
   },
   "outputs": [
    {
     "name": "stdout",
     "output_type": "stream",
     "text": [
      "RMSLE error is: 0.044931157046\n",
      "CPU times: user 200 ms, sys: 4 ms, total: 204 ms\n",
      "Wall time: 458 ms\n"
     ]
    }
   ],
   "source": [
    "%%time\n",
    "xgb = xgboost.XGBRegressor(max_depth=3, n_estimators=300, learning_rate=0.05)\n",
    "pipe_xgb = create_pipeline(xgb)\n",
    "# fit the pipeline\n",
    "pipe_xgb.fit(X_train, y_train)\n",
    "y_pred = pipe_xgb.predict(X_test)\n",
    "print (\"RMSLE error is: \" + str(rmsle(y_test, y_pred)))"
   ]
  },
  {
   "cell_type": "code",
   "execution_count": 102,
   "metadata": {
    "collapsed": false
   },
   "outputs": [
    {
     "name": "stdout",
     "output_type": "stream",
     "text": [
      "RMSLE error is: 0.0449140727729\n",
      "CPU times: user 55.8 s, sys: 60 ms, total: 55.9 s\n",
      "Wall time: 1min 25s\n"
     ]
    }
   ],
   "source": [
    "%%time\n",
    "xg = xgboost.XGBRegressor(seed=42,nthread=-1)\n",
    "n_estimators = [100, 150, 200,300,400]\n",
    "max_depth = [3,4, 6, 8,10]\n",
    "param_grid = dict(max_depth=max_depth, n_estimators=n_estimators)\n",
    "model_xg_cv = GridSearchCV(xg, param_grid, cv=10,scoring='neg_mean_squared_error') # n_jobs=-1,\n",
    "pipe_xgb_cv = create_pipeline(model_xg_cv)\n",
    "# fit the pipeline\n",
    "pipe_xgb_cv.fit(X_train, y_train)\n",
    "y_pred = pipe_xgb_cv.predict(X_test)\n",
    "print (\"RMSLE error is: \" + str(rmsle(y_test, y_pred)))"
   ]
  },
  {
   "cell_type": "markdown",
   "metadata": {},
   "source": [
    "=> Temps de traitement trop long comparé au gain minime en termes d'erreur."
   ]
  },
  {
   "cell_type": "markdown",
   "metadata": {},
   "source": [
    "### Modèle retenu:  Random Forest simple car meilleur rapport score/performance "
   ]
  },
  {
   "cell_type": "markdown",
   "metadata": {},
   "source": [
    "Pour terminer, il est toujours important d'étudier l'importance de nos variables dans le modèle. Cette étape permet de comprendre pourquoi il fonctionne et de l'expliquer à une population de non initiés! Grâce au paramètre feature_importances_ du regresseur nous allons voir quelles variables sont discriminantes pour la cible"
   ]
  },
  {
   "cell_type": "code",
   "execution_count": 104,
   "metadata": {
    "collapsed": false
   },
   "outputs": [
    {
     "data": {
      "text/html": [
       "<div>\n",
       "<table border=\"1\" class=\"dataframe\">\n",
       "  <thead>\n",
       "    <tr style=\"text-align: right;\">\n",
       "      <th></th>\n",
       "      <th>features</th>\n",
       "      <th>importance</th>\n",
       "    </tr>\n",
       "  </thead>\n",
       "  <tbody>\n",
       "    <tr>\n",
       "      <th>0</th>\n",
       "      <td>capacity</td>\n",
       "      <td>0.189801</td>\n",
       "    </tr>\n",
       "    <tr>\n",
       "      <th>1</th>\n",
       "      <td>failure_rate</td>\n",
       "      <td>0.173993</td>\n",
       "    </tr>\n",
       "    <tr>\n",
       "      <th>2</th>\n",
       "      <td>margin</td>\n",
       "      <td>0.214307</td>\n",
       "    </tr>\n",
       "    <tr>\n",
       "      <th>3</th>\n",
       "      <td>price</td>\n",
       "      <td>0.299570</td>\n",
       "    </tr>\n",
       "    <tr>\n",
       "      <th>4</th>\n",
       "      <td>prod_cost</td>\n",
       "      <td>0.046381</td>\n",
       "    </tr>\n",
       "    <tr>\n",
       "      <th>5</th>\n",
       "      <td>product_type</td>\n",
       "      <td>0.005918</td>\n",
       "    </tr>\n",
       "    <tr>\n",
       "      <th>6</th>\n",
       "      <td>quality</td>\n",
       "      <td>0.063084</td>\n",
       "    </tr>\n",
       "    <tr>\n",
       "      <th>7</th>\n",
       "      <td>warranty</td>\n",
       "      <td>0.006947</td>\n",
       "    </tr>\n",
       "  </tbody>\n",
       "</table>\n",
       "</div>"
      ],
      "text/plain": [
       "       features  importance\n",
       "0      capacity    0.189801\n",
       "1  failure_rate    0.173993\n",
       "2        margin    0.214307\n",
       "3         price    0.299570\n",
       "4     prod_cost    0.046381\n",
       "5  product_type    0.005918\n",
       "6       quality    0.063084\n",
       "7      warranty    0.006947"
      ]
     },
     "execution_count": 104,
     "metadata": {},
     "output_type": "execute_result"
    }
   ],
   "source": [
    "pd.DataFrame(zip(X_train.columns, pipe_rf.named_steps['regressor'].feature_importances_), columns=['features', 'importance'])"
   ]
  },
  {
   "cell_type": "markdown",
   "metadata": {},
   "source": [
    "## IV. Soumission des résultats"
   ]
  },
  {
   "cell_type": "code",
   "execution_count": 371,
   "metadata": {
    "collapsed": true
   },
   "outputs": [],
   "source": [
    "import os\n",
    "def write_to_file(X_prod,y_pred,filename,path) :\n",
    "    if not os.path.exists(path):\n",
    "        os.makedirs(path)\n",
    "    X_prod['attractiveness'] = y_pred\n",
    "    X_prod[['attractiveness']].to_csv(path+filename, sep='|')\n",
    "    print('Ecriture finie.')\n",
    "    return"
   ]
  },
  {
   "cell_type": "markdown",
   "metadata": {},
   "source": [
    "Apprentissage sur tout le data set afin de bénéficier de toute l'information disponible"
   ]
  },
  {
   "cell_type": "code",
   "execution_count": 384,
   "metadata": {
    "collapsed": false
   },
   "outputs": [
    {
     "data": {
      "text/plain": [
       "Pipeline(steps=[('encoder', EncodeCategorical(columns=Index([u'product_type', u'quality'], dtype='object'))), ('imputer', <__main__.DataFrameImputer object at 0x7f2d113ec450>), ('regressor', RandomForestRegressor(bootstrap=True, criterion='mse', max_depth=7,\n",
       "           max_features=None, max_leaf_nodes=None, min_samples_leaf=1,\n",
       "           min_samples_split=5, min_weight_fraction_leaf=0.0,\n",
       "           n_estimators=300, n_jobs=-1, oob_score=False, random_state=42,\n",
       "           verbose=0, warm_start=False))])"
      ]
     },
     "execution_count": 384,
     "metadata": {},
     "output_type": "execute_result"
    }
   ],
   "source": [
    "pipe_rf.fit(X, y)"
   ]
  },
  {
   "cell_type": "code",
   "execution_count": 385,
   "metadata": {
    "collapsed": false
   },
   "outputs": [],
   "source": [
    "df = prod.copy()\n",
    "df.warranty = df.warranty.map(lambda x: int(filter(str.isdigit, x)))\n",
    "df.prod_cost = pd.to_numeric(df.prod_cost, errors='coerce')\n",
    "df = df.set_index('id')\n",
    "y_pred = pipe_rf.predict(df)"
   ]
  },
  {
   "cell_type": "code",
   "execution_count": 386,
   "metadata": {
    "collapsed": false,
    "scrolled": true
   },
   "outputs": [
    {
     "name": "stdout",
     "output_type": "stream",
     "text": [
      "Ecriture finie.\n"
     ]
    }
   ],
   "source": [
    "#Ecriture\n",
    "write_to_file(prod.copy(), y_pred,'ma_prediction.csv',path)"
   ]
  },
  {
   "cell_type": "markdown",
   "metadata": {},
   "source": [
    "### Il est également possible de sauvegarder le pipeline dans un fichier pour être ré-utilisé plus tard:\n",
    "### Très pratique et même indispensable lorsqu'on veut industrialiser co"
   ]
  },
  {
   "cell_type": "code",
   "execution_count": 387,
   "metadata": {
    "collapsed": true
   },
   "outputs": [
    {
     "data": {
      "text/plain": [
       "['my_model.pkl',\n",
       " 'my_model.pkl_01.npy',\n",
       " 'my_model.pkl_02.npy',\n",
       " 'my_model.pkl_03.npy',\n",
       " 'my_model.pkl_04.npy',\n",
       " 'my_model.pkl_05.npy',\n",
       " 'my_model.pkl_06.npy',\n",
       " 'my_model.pkl_07.npy',\n",
       " 'my_model.pkl_08.npy',\n",
       " 'my_model.pkl_09.npy',\n",
       " 'my_model.pkl_10.npy',\n",
       " 'my_model.pkl_11.npy',\n",
       " 'my_model.pkl_12.npy',\n",
       " 'my_model.pkl_13.npy',\n",
       " 'my_model.pkl_14.npy',\n",
       " 'my_model.pkl_15.npy',\n",
       " 'my_model.pkl_16.npy',\n",
       " 'my_model.pkl_17.npy',\n",
       " 'my_model.pkl_18.npy',\n",
       " 'my_model.pkl_19.npy',\n",
       " 'my_model.pkl_20.npy',\n",
       " 'my_model.pkl_21.npy',\n",
       " 'my_model.pkl_22.npy',\n",
       " 'my_model.pkl_23.npy',\n",
       " 'my_model.pkl_24.npy',\n",
       " 'my_model.pkl_25.npy',\n",
       " 'my_model.pkl_26.npy',\n",
       " 'my_model.pkl_27.npy',\n",
       " 'my_model.pkl_28.npy',\n",
       " 'my_model.pkl_29.npy',\n",
       " 'my_model.pkl_30.npy',\n",
       " 'my_model.pkl_31.npy',\n",
       " 'my_model.pkl_32.npy',\n",
       " 'my_model.pkl_33.npy',\n",
       " 'my_model.pkl_34.npy',\n",
       " 'my_model.pkl_35.npy',\n",
       " 'my_model.pkl_36.npy',\n",
       " 'my_model.pkl_37.npy',\n",
       " 'my_model.pkl_38.npy',\n",
       " 'my_model.pkl_39.npy',\n",
       " 'my_model.pkl_40.npy',\n",
       " 'my_model.pkl_41.npy',\n",
       " 'my_model.pkl_42.npy',\n",
       " 'my_model.pkl_43.npy',\n",
       " 'my_model.pkl_44.npy',\n",
       " 'my_model.pkl_45.npy',\n",
       " 'my_model.pkl_46.npy',\n",
       " 'my_model.pkl_47.npy',\n",
       " 'my_model.pkl_48.npy',\n",
       " 'my_model.pkl_49.npy',\n",
       " 'my_model.pkl_50.npy',\n",
       " 'my_model.pkl_51.npy',\n",
       " 'my_model.pkl_52.npy',\n",
       " 'my_model.pkl_53.npy',\n",
       " 'my_model.pkl_54.npy',\n",
       " 'my_model.pkl_55.npy',\n",
       " 'my_model.pkl_56.npy',\n",
       " 'my_model.pkl_57.npy',\n",
       " 'my_model.pkl_58.npy',\n",
       " 'my_model.pkl_59.npy',\n",
       " 'my_model.pkl_60.npy',\n",
       " 'my_model.pkl_61.npy',\n",
       " 'my_model.pkl_62.npy',\n",
       " 'my_model.pkl_63.npy',\n",
       " 'my_model.pkl_64.npy',\n",
       " 'my_model.pkl_65.npy',\n",
       " 'my_model.pkl_66.npy',\n",
       " 'my_model.pkl_67.npy',\n",
       " 'my_model.pkl_68.npy',\n",
       " 'my_model.pkl_69.npy',\n",
       " 'my_model.pkl_70.npy',\n",
       " 'my_model.pkl_71.npy',\n",
       " 'my_model.pkl_72.npy',\n",
       " 'my_model.pkl_73.npy',\n",
       " 'my_model.pkl_74.npy',\n",
       " 'my_model.pkl_75.npy',\n",
       " 'my_model.pkl_76.npy',\n",
       " 'my_model.pkl_77.npy',\n",
       " 'my_model.pkl_78.npy',\n",
       " 'my_model.pkl_79.npy',\n",
       " 'my_model.pkl_80.npy',\n",
       " 'my_model.pkl_81.npy',\n",
       " 'my_model.pkl_82.npy',\n",
       " 'my_model.pkl_83.npy',\n",
       " 'my_model.pkl_84.npy',\n",
       " 'my_model.pkl_85.npy',\n",
       " 'my_model.pkl_86.npy',\n",
       " 'my_model.pkl_87.npy',\n",
       " 'my_model.pkl_88.npy',\n",
       " 'my_model.pkl_89.npy',\n",
       " 'my_model.pkl_90.npy',\n",
       " 'my_model.pkl_91.npy',\n",
       " 'my_model.pkl_92.npy',\n",
       " 'my_model.pkl_93.npy',\n",
       " 'my_model.pkl_94.npy',\n",
       " 'my_model.pkl_95.npy',\n",
       " 'my_model.pkl_96.npy',\n",
       " 'my_model.pkl_97.npy',\n",
       " 'my_model.pkl_98.npy',\n",
       " 'my_model.pkl_99.npy',\n",
       " 'my_model.pkl_100.npy',\n",
       " 'my_model.pkl_101.npy',\n",
       " 'my_model.pkl_102.npy',\n",
       " 'my_model.pkl_103.npy',\n",
       " 'my_model.pkl_104.npy',\n",
       " 'my_model.pkl_105.npy',\n",
       " 'my_model.pkl_106.npy',\n",
       " 'my_model.pkl_107.npy',\n",
       " 'my_model.pkl_108.npy',\n",
       " 'my_model.pkl_109.npy',\n",
       " 'my_model.pkl_110.npy',\n",
       " 'my_model.pkl_111.npy',\n",
       " 'my_model.pkl_112.npy',\n",
       " 'my_model.pkl_113.npy',\n",
       " 'my_model.pkl_114.npy',\n",
       " 'my_model.pkl_115.npy',\n",
       " 'my_model.pkl_116.npy',\n",
       " 'my_model.pkl_117.npy',\n",
       " 'my_model.pkl_118.npy',\n",
       " 'my_model.pkl_119.npy',\n",
       " 'my_model.pkl_120.npy',\n",
       " 'my_model.pkl_121.npy',\n",
       " 'my_model.pkl_122.npy',\n",
       " 'my_model.pkl_123.npy',\n",
       " 'my_model.pkl_124.npy',\n",
       " 'my_model.pkl_125.npy',\n",
       " 'my_model.pkl_126.npy',\n",
       " 'my_model.pkl_127.npy',\n",
       " 'my_model.pkl_128.npy',\n",
       " 'my_model.pkl_129.npy',\n",
       " 'my_model.pkl_130.npy',\n",
       " 'my_model.pkl_131.npy',\n",
       " 'my_model.pkl_132.npy',\n",
       " 'my_model.pkl_133.npy',\n",
       " 'my_model.pkl_134.npy',\n",
       " 'my_model.pkl_135.npy',\n",
       " 'my_model.pkl_136.npy',\n",
       " 'my_model.pkl_137.npy',\n",
       " 'my_model.pkl_138.npy',\n",
       " 'my_model.pkl_139.npy',\n",
       " 'my_model.pkl_140.npy',\n",
       " 'my_model.pkl_141.npy',\n",
       " 'my_model.pkl_142.npy',\n",
       " 'my_model.pkl_143.npy',\n",
       " 'my_model.pkl_144.npy',\n",
       " 'my_model.pkl_145.npy',\n",
       " 'my_model.pkl_146.npy',\n",
       " 'my_model.pkl_147.npy',\n",
       " 'my_model.pkl_148.npy',\n",
       " 'my_model.pkl_149.npy',\n",
       " 'my_model.pkl_150.npy',\n",
       " 'my_model.pkl_151.npy',\n",
       " 'my_model.pkl_152.npy',\n",
       " 'my_model.pkl_153.npy',\n",
       " 'my_model.pkl_154.npy',\n",
       " 'my_model.pkl_155.npy',\n",
       " 'my_model.pkl_156.npy',\n",
       " 'my_model.pkl_157.npy',\n",
       " 'my_model.pkl_158.npy',\n",
       " 'my_model.pkl_159.npy',\n",
       " 'my_model.pkl_160.npy',\n",
       " 'my_model.pkl_161.npy',\n",
       " 'my_model.pkl_162.npy',\n",
       " 'my_model.pkl_163.npy',\n",
       " 'my_model.pkl_164.npy',\n",
       " 'my_model.pkl_165.npy',\n",
       " 'my_model.pkl_166.npy',\n",
       " 'my_model.pkl_167.npy',\n",
       " 'my_model.pkl_168.npy',\n",
       " 'my_model.pkl_169.npy',\n",
       " 'my_model.pkl_170.npy',\n",
       " 'my_model.pkl_171.npy',\n",
       " 'my_model.pkl_172.npy',\n",
       " 'my_model.pkl_173.npy',\n",
       " 'my_model.pkl_174.npy',\n",
       " 'my_model.pkl_175.npy',\n",
       " 'my_model.pkl_176.npy',\n",
       " 'my_model.pkl_177.npy',\n",
       " 'my_model.pkl_178.npy',\n",
       " 'my_model.pkl_179.npy',\n",
       " 'my_model.pkl_180.npy',\n",
       " 'my_model.pkl_181.npy',\n",
       " 'my_model.pkl_182.npy',\n",
       " 'my_model.pkl_183.npy',\n",
       " 'my_model.pkl_184.npy',\n",
       " 'my_model.pkl_185.npy',\n",
       " 'my_model.pkl_186.npy',\n",
       " 'my_model.pkl_187.npy',\n",
       " 'my_model.pkl_188.npy',\n",
       " 'my_model.pkl_189.npy',\n",
       " 'my_model.pkl_190.npy',\n",
       " 'my_model.pkl_191.npy',\n",
       " 'my_model.pkl_192.npy',\n",
       " 'my_model.pkl_193.npy',\n",
       " 'my_model.pkl_194.npy',\n",
       " 'my_model.pkl_195.npy',\n",
       " 'my_model.pkl_196.npy',\n",
       " 'my_model.pkl_197.npy',\n",
       " 'my_model.pkl_198.npy',\n",
       " 'my_model.pkl_199.npy',\n",
       " 'my_model.pkl_200.npy',\n",
       " 'my_model.pkl_201.npy',\n",
       " 'my_model.pkl_202.npy',\n",
       " 'my_model.pkl_203.npy',\n",
       " 'my_model.pkl_204.npy',\n",
       " 'my_model.pkl_205.npy',\n",
       " 'my_model.pkl_206.npy',\n",
       " 'my_model.pkl_207.npy',\n",
       " 'my_model.pkl_208.npy',\n",
       " 'my_model.pkl_209.npy',\n",
       " 'my_model.pkl_210.npy',\n",
       " 'my_model.pkl_211.npy',\n",
       " 'my_model.pkl_212.npy',\n",
       " 'my_model.pkl_213.npy',\n",
       " 'my_model.pkl_214.npy',\n",
       " 'my_model.pkl_215.npy',\n",
       " 'my_model.pkl_216.npy',\n",
       " 'my_model.pkl_217.npy',\n",
       " 'my_model.pkl_218.npy',\n",
       " 'my_model.pkl_219.npy',\n",
       " 'my_model.pkl_220.npy',\n",
       " 'my_model.pkl_221.npy',\n",
       " 'my_model.pkl_222.npy',\n",
       " 'my_model.pkl_223.npy',\n",
       " 'my_model.pkl_224.npy',\n",
       " 'my_model.pkl_225.npy',\n",
       " 'my_model.pkl_226.npy',\n",
       " 'my_model.pkl_227.npy',\n",
       " 'my_model.pkl_228.npy',\n",
       " 'my_model.pkl_229.npy',\n",
       " 'my_model.pkl_230.npy',\n",
       " 'my_model.pkl_231.npy',\n",
       " 'my_model.pkl_232.npy',\n",
       " 'my_model.pkl_233.npy',\n",
       " 'my_model.pkl_234.npy',\n",
       " 'my_model.pkl_235.npy',\n",
       " 'my_model.pkl_236.npy',\n",
       " 'my_model.pkl_237.npy',\n",
       " 'my_model.pkl_238.npy',\n",
       " 'my_model.pkl_239.npy',\n",
       " 'my_model.pkl_240.npy',\n",
       " 'my_model.pkl_241.npy',\n",
       " 'my_model.pkl_242.npy',\n",
       " 'my_model.pkl_243.npy',\n",
       " 'my_model.pkl_244.npy',\n",
       " 'my_model.pkl_245.npy',\n",
       " 'my_model.pkl_246.npy',\n",
       " 'my_model.pkl_247.npy',\n",
       " 'my_model.pkl_248.npy',\n",
       " 'my_model.pkl_249.npy',\n",
       " 'my_model.pkl_250.npy',\n",
       " 'my_model.pkl_251.npy',\n",
       " 'my_model.pkl_252.npy',\n",
       " 'my_model.pkl_253.npy',\n",
       " 'my_model.pkl_254.npy',\n",
       " 'my_model.pkl_255.npy',\n",
       " 'my_model.pkl_256.npy',\n",
       " 'my_model.pkl_257.npy',\n",
       " 'my_model.pkl_258.npy',\n",
       " 'my_model.pkl_259.npy',\n",
       " 'my_model.pkl_260.npy',\n",
       " 'my_model.pkl_261.npy',\n",
       " 'my_model.pkl_262.npy',\n",
       " 'my_model.pkl_263.npy',\n",
       " 'my_model.pkl_264.npy',\n",
       " 'my_model.pkl_265.npy',\n",
       " 'my_model.pkl_266.npy',\n",
       " 'my_model.pkl_267.npy',\n",
       " 'my_model.pkl_268.npy',\n",
       " 'my_model.pkl_269.npy',\n",
       " 'my_model.pkl_270.npy',\n",
       " 'my_model.pkl_271.npy',\n",
       " 'my_model.pkl_272.npy',\n",
       " 'my_model.pkl_273.npy',\n",
       " 'my_model.pkl_274.npy',\n",
       " 'my_model.pkl_275.npy',\n",
       " 'my_model.pkl_276.npy',\n",
       " 'my_model.pkl_277.npy',\n",
       " 'my_model.pkl_278.npy',\n",
       " 'my_model.pkl_279.npy',\n",
       " 'my_model.pkl_280.npy',\n",
       " 'my_model.pkl_281.npy',\n",
       " 'my_model.pkl_282.npy',\n",
       " 'my_model.pkl_283.npy',\n",
       " 'my_model.pkl_284.npy',\n",
       " 'my_model.pkl_285.npy',\n",
       " 'my_model.pkl_286.npy',\n",
       " 'my_model.pkl_287.npy',\n",
       " 'my_model.pkl_288.npy',\n",
       " 'my_model.pkl_289.npy',\n",
       " 'my_model.pkl_290.npy',\n",
       " 'my_model.pkl_291.npy',\n",
       " 'my_model.pkl_292.npy',\n",
       " 'my_model.pkl_293.npy',\n",
       " 'my_model.pkl_294.npy',\n",
       " 'my_model.pkl_295.npy',\n",
       " 'my_model.pkl_296.npy',\n",
       " 'my_model.pkl_297.npy',\n",
       " 'my_model.pkl_298.npy',\n",
       " 'my_model.pkl_299.npy',\n",
       " 'my_model.pkl_300.npy',\n",
       " 'my_model.pkl_301.npy',\n",
       " 'my_model.pkl_302.npy',\n",
       " 'my_model.pkl_303.npy',\n",
       " 'my_model.pkl_304.npy',\n",
       " 'my_model.pkl_305.npy',\n",
       " 'my_model.pkl_306.npy',\n",
       " 'my_model.pkl_307.npy',\n",
       " 'my_model.pkl_308.npy',\n",
       " 'my_model.pkl_309.npy',\n",
       " 'my_model.pkl_310.npy',\n",
       " 'my_model.pkl_311.npy',\n",
       " 'my_model.pkl_312.npy',\n",
       " 'my_model.pkl_313.npy',\n",
       " 'my_model.pkl_314.npy',\n",
       " 'my_model.pkl_315.npy',\n",
       " 'my_model.pkl_316.npy',\n",
       " 'my_model.pkl_317.npy',\n",
       " 'my_model.pkl_318.npy',\n",
       " 'my_model.pkl_319.npy',\n",
       " 'my_model.pkl_320.npy',\n",
       " 'my_model.pkl_321.npy',\n",
       " 'my_model.pkl_322.npy',\n",
       " 'my_model.pkl_323.npy',\n",
       " 'my_model.pkl_324.npy',\n",
       " 'my_model.pkl_325.npy',\n",
       " 'my_model.pkl_326.npy',\n",
       " 'my_model.pkl_327.npy',\n",
       " 'my_model.pkl_328.npy',\n",
       " 'my_model.pkl_329.npy',\n",
       " 'my_model.pkl_330.npy',\n",
       " 'my_model.pkl_331.npy',\n",
       " 'my_model.pkl_332.npy',\n",
       " 'my_model.pkl_333.npy',\n",
       " 'my_model.pkl_334.npy',\n",
       " 'my_model.pkl_335.npy',\n",
       " 'my_model.pkl_336.npy',\n",
       " 'my_model.pkl_337.npy',\n",
       " 'my_model.pkl_338.npy',\n",
       " 'my_model.pkl_339.npy',\n",
       " 'my_model.pkl_340.npy',\n",
       " 'my_model.pkl_341.npy',\n",
       " 'my_model.pkl_342.npy',\n",
       " 'my_model.pkl_343.npy',\n",
       " 'my_model.pkl_344.npy',\n",
       " 'my_model.pkl_345.npy',\n",
       " 'my_model.pkl_346.npy',\n",
       " 'my_model.pkl_347.npy',\n",
       " 'my_model.pkl_348.npy',\n",
       " 'my_model.pkl_349.npy',\n",
       " 'my_model.pkl_350.npy',\n",
       " 'my_model.pkl_351.npy',\n",
       " 'my_model.pkl_352.npy',\n",
       " 'my_model.pkl_353.npy',\n",
       " 'my_model.pkl_354.npy',\n",
       " 'my_model.pkl_355.npy',\n",
       " 'my_model.pkl_356.npy',\n",
       " 'my_model.pkl_357.npy',\n",
       " 'my_model.pkl_358.npy',\n",
       " 'my_model.pkl_359.npy',\n",
       " 'my_model.pkl_360.npy',\n",
       " 'my_model.pkl_361.npy',\n",
       " 'my_model.pkl_362.npy',\n",
       " 'my_model.pkl_363.npy',\n",
       " 'my_model.pkl_364.npy',\n",
       " 'my_model.pkl_365.npy',\n",
       " 'my_model.pkl_366.npy',\n",
       " 'my_model.pkl_367.npy',\n",
       " 'my_model.pkl_368.npy',\n",
       " 'my_model.pkl_369.npy',\n",
       " 'my_model.pkl_370.npy',\n",
       " 'my_model.pkl_371.npy',\n",
       " 'my_model.pkl_372.npy',\n",
       " 'my_model.pkl_373.npy',\n",
       " 'my_model.pkl_374.npy',\n",
       " 'my_model.pkl_375.npy',\n",
       " 'my_model.pkl_376.npy',\n",
       " 'my_model.pkl_377.npy',\n",
       " 'my_model.pkl_378.npy',\n",
       " 'my_model.pkl_379.npy',\n",
       " 'my_model.pkl_380.npy',\n",
       " 'my_model.pkl_381.npy',\n",
       " 'my_model.pkl_382.npy',\n",
       " 'my_model.pkl_383.npy',\n",
       " 'my_model.pkl_384.npy',\n",
       " 'my_model.pkl_385.npy',\n",
       " 'my_model.pkl_386.npy',\n",
       " 'my_model.pkl_387.npy',\n",
       " 'my_model.pkl_388.npy',\n",
       " 'my_model.pkl_389.npy',\n",
       " 'my_model.pkl_390.npy',\n",
       " 'my_model.pkl_391.npy',\n",
       " 'my_model.pkl_392.npy',\n",
       " 'my_model.pkl_393.npy',\n",
       " 'my_model.pkl_394.npy',\n",
       " 'my_model.pkl_395.npy',\n",
       " 'my_model.pkl_396.npy',\n",
       " 'my_model.pkl_397.npy',\n",
       " 'my_model.pkl_398.npy',\n",
       " 'my_model.pkl_399.npy',\n",
       " 'my_model.pkl_400.npy',\n",
       " 'my_model.pkl_401.npy',\n",
       " 'my_model.pkl_402.npy',\n",
       " 'my_model.pkl_403.npy',\n",
       " 'my_model.pkl_404.npy',\n",
       " 'my_model.pkl_405.npy',\n",
       " 'my_model.pkl_406.npy',\n",
       " 'my_model.pkl_407.npy',\n",
       " 'my_model.pkl_408.npy',\n",
       " 'my_model.pkl_409.npy',\n",
       " 'my_model.pkl_410.npy',\n",
       " 'my_model.pkl_411.npy',\n",
       " 'my_model.pkl_412.npy',\n",
       " 'my_model.pkl_413.npy',\n",
       " 'my_model.pkl_414.npy',\n",
       " 'my_model.pkl_415.npy',\n",
       " 'my_model.pkl_416.npy',\n",
       " 'my_model.pkl_417.npy',\n",
       " 'my_model.pkl_418.npy',\n",
       " 'my_model.pkl_419.npy',\n",
       " 'my_model.pkl_420.npy',\n",
       " 'my_model.pkl_421.npy',\n",
       " 'my_model.pkl_422.npy',\n",
       " 'my_model.pkl_423.npy',\n",
       " 'my_model.pkl_424.npy',\n",
       " 'my_model.pkl_425.npy',\n",
       " 'my_model.pkl_426.npy',\n",
       " 'my_model.pkl_427.npy',\n",
       " 'my_model.pkl_428.npy',\n",
       " 'my_model.pkl_429.npy',\n",
       " 'my_model.pkl_430.npy',\n",
       " 'my_model.pkl_431.npy',\n",
       " 'my_model.pkl_432.npy',\n",
       " 'my_model.pkl_433.npy',\n",
       " 'my_model.pkl_434.npy',\n",
       " 'my_model.pkl_435.npy',\n",
       " 'my_model.pkl_436.npy',\n",
       " 'my_model.pkl_437.npy',\n",
       " 'my_model.pkl_438.npy',\n",
       " 'my_model.pkl_439.npy',\n",
       " 'my_model.pkl_440.npy',\n",
       " 'my_model.pkl_441.npy',\n",
       " 'my_model.pkl_442.npy',\n",
       " 'my_model.pkl_443.npy',\n",
       " 'my_model.pkl_444.npy',\n",
       " 'my_model.pkl_445.npy',\n",
       " 'my_model.pkl_446.npy',\n",
       " 'my_model.pkl_447.npy',\n",
       " 'my_model.pkl_448.npy',\n",
       " 'my_model.pkl_449.npy',\n",
       " 'my_model.pkl_450.npy',\n",
       " 'my_model.pkl_451.npy',\n",
       " 'my_model.pkl_452.npy',\n",
       " 'my_model.pkl_453.npy',\n",
       " 'my_model.pkl_454.npy',\n",
       " 'my_model.pkl_455.npy',\n",
       " 'my_model.pkl_456.npy',\n",
       " 'my_model.pkl_457.npy',\n",
       " 'my_model.pkl_458.npy',\n",
       " 'my_model.pkl_459.npy',\n",
       " 'my_model.pkl_460.npy',\n",
       " 'my_model.pkl_461.npy',\n",
       " 'my_model.pkl_462.npy',\n",
       " 'my_model.pkl_463.npy',\n",
       " 'my_model.pkl_464.npy',\n",
       " 'my_model.pkl_465.npy',\n",
       " 'my_model.pkl_466.npy',\n",
       " 'my_model.pkl_467.npy',\n",
       " 'my_model.pkl_468.npy',\n",
       " 'my_model.pkl_469.npy',\n",
       " 'my_model.pkl_470.npy',\n",
       " 'my_model.pkl_471.npy',\n",
       " 'my_model.pkl_472.npy',\n",
       " 'my_model.pkl_473.npy',\n",
       " 'my_model.pkl_474.npy',\n",
       " 'my_model.pkl_475.npy',\n",
       " 'my_model.pkl_476.npy',\n",
       " 'my_model.pkl_477.npy',\n",
       " 'my_model.pkl_478.npy',\n",
       " 'my_model.pkl_479.npy',\n",
       " 'my_model.pkl_480.npy',\n",
       " 'my_model.pkl_481.npy',\n",
       " 'my_model.pkl_482.npy',\n",
       " 'my_model.pkl_483.npy',\n",
       " 'my_model.pkl_484.npy',\n",
       " 'my_model.pkl_485.npy',\n",
       " 'my_model.pkl_486.npy',\n",
       " 'my_model.pkl_487.npy',\n",
       " 'my_model.pkl_488.npy',\n",
       " 'my_model.pkl_489.npy',\n",
       " 'my_model.pkl_490.npy',\n",
       " 'my_model.pkl_491.npy',\n",
       " 'my_model.pkl_492.npy',\n",
       " 'my_model.pkl_493.npy',\n",
       " 'my_model.pkl_494.npy',\n",
       " 'my_model.pkl_495.npy',\n",
       " 'my_model.pkl_496.npy',\n",
       " 'my_model.pkl_497.npy',\n",
       " 'my_model.pkl_498.npy',\n",
       " 'my_model.pkl_499.npy',\n",
       " 'my_model.pkl_500.npy',\n",
       " 'my_model.pkl_501.npy',\n",
       " 'my_model.pkl_502.npy',\n",
       " 'my_model.pkl_503.npy',\n",
       " 'my_model.pkl_504.npy',\n",
       " 'my_model.pkl_505.npy',\n",
       " 'my_model.pkl_506.npy',\n",
       " 'my_model.pkl_507.npy',\n",
       " 'my_model.pkl_508.npy',\n",
       " 'my_model.pkl_509.npy',\n",
       " 'my_model.pkl_510.npy',\n",
       " 'my_model.pkl_511.npy',\n",
       " 'my_model.pkl_512.npy',\n",
       " 'my_model.pkl_513.npy',\n",
       " 'my_model.pkl_514.npy',\n",
       " 'my_model.pkl_515.npy',\n",
       " 'my_model.pkl_516.npy',\n",
       " 'my_model.pkl_517.npy',\n",
       " 'my_model.pkl_518.npy',\n",
       " 'my_model.pkl_519.npy',\n",
       " 'my_model.pkl_520.npy',\n",
       " 'my_model.pkl_521.npy',\n",
       " 'my_model.pkl_522.npy',\n",
       " 'my_model.pkl_523.npy',\n",
       " 'my_model.pkl_524.npy',\n",
       " 'my_model.pkl_525.npy',\n",
       " 'my_model.pkl_526.npy',\n",
       " 'my_model.pkl_527.npy',\n",
       " 'my_model.pkl_528.npy',\n",
       " 'my_model.pkl_529.npy',\n",
       " 'my_model.pkl_530.npy',\n",
       " 'my_model.pkl_531.npy',\n",
       " 'my_model.pkl_532.npy',\n",
       " 'my_model.pkl_533.npy',\n",
       " 'my_model.pkl_534.npy',\n",
       " 'my_model.pkl_535.npy',\n",
       " 'my_model.pkl_536.npy',\n",
       " 'my_model.pkl_537.npy',\n",
       " 'my_model.pkl_538.npy',\n",
       " 'my_model.pkl_539.npy',\n",
       " 'my_model.pkl_540.npy',\n",
       " 'my_model.pkl_541.npy',\n",
       " 'my_model.pkl_542.npy',\n",
       " 'my_model.pkl_543.npy',\n",
       " 'my_model.pkl_544.npy',\n",
       " 'my_model.pkl_545.npy',\n",
       " 'my_model.pkl_546.npy',\n",
       " 'my_model.pkl_547.npy',\n",
       " 'my_model.pkl_548.npy',\n",
       " 'my_model.pkl_549.npy',\n",
       " 'my_model.pkl_550.npy',\n",
       " 'my_model.pkl_551.npy',\n",
       " 'my_model.pkl_552.npy',\n",
       " 'my_model.pkl_553.npy',\n",
       " 'my_model.pkl_554.npy',\n",
       " 'my_model.pkl_555.npy',\n",
       " 'my_model.pkl_556.npy',\n",
       " 'my_model.pkl_557.npy',\n",
       " 'my_model.pkl_558.npy',\n",
       " 'my_model.pkl_559.npy',\n",
       " 'my_model.pkl_560.npy',\n",
       " 'my_model.pkl_561.npy',\n",
       " 'my_model.pkl_562.npy',\n",
       " 'my_model.pkl_563.npy',\n",
       " 'my_model.pkl_564.npy',\n",
       " 'my_model.pkl_565.npy',\n",
       " 'my_model.pkl_566.npy',\n",
       " 'my_model.pkl_567.npy',\n",
       " 'my_model.pkl_568.npy',\n",
       " 'my_model.pkl_569.npy',\n",
       " 'my_model.pkl_570.npy',\n",
       " 'my_model.pkl_571.npy',\n",
       " 'my_model.pkl_572.npy',\n",
       " 'my_model.pkl_573.npy',\n",
       " 'my_model.pkl_574.npy',\n",
       " 'my_model.pkl_575.npy',\n",
       " 'my_model.pkl_576.npy',\n",
       " 'my_model.pkl_577.npy',\n",
       " 'my_model.pkl_578.npy',\n",
       " 'my_model.pkl_579.npy',\n",
       " 'my_model.pkl_580.npy',\n",
       " 'my_model.pkl_581.npy',\n",
       " 'my_model.pkl_582.npy',\n",
       " 'my_model.pkl_583.npy',\n",
       " 'my_model.pkl_584.npy',\n",
       " 'my_model.pkl_585.npy',\n",
       " 'my_model.pkl_586.npy',\n",
       " 'my_model.pkl_587.npy',\n",
       " 'my_model.pkl_588.npy',\n",
       " 'my_model.pkl_589.npy',\n",
       " 'my_model.pkl_590.npy',\n",
       " 'my_model.pkl_591.npy',\n",
       " 'my_model.pkl_592.npy',\n",
       " 'my_model.pkl_593.npy',\n",
       " 'my_model.pkl_594.npy',\n",
       " 'my_model.pkl_595.npy',\n",
       " 'my_model.pkl_596.npy',\n",
       " 'my_model.pkl_597.npy',\n",
       " 'my_model.pkl_598.npy',\n",
       " 'my_model.pkl_599.npy',\n",
       " 'my_model.pkl_600.npy',\n",
       " 'my_model.pkl_601.npy',\n",
       " 'my_model.pkl_602.npy',\n",
       " 'my_model.pkl_603.npy',\n",
       " 'my_model.pkl_604.npy',\n",
       " 'my_model.pkl_605.npy',\n",
       " 'my_model.pkl_606.npy',\n",
       " 'my_model.pkl_607.npy',\n",
       " 'my_model.pkl_608.npy',\n",
       " 'my_model.pkl_609.npy',\n",
       " 'my_model.pkl_610.npy',\n",
       " 'my_model.pkl_611.npy',\n",
       " 'my_model.pkl_612.npy',\n",
       " 'my_model.pkl_613.npy',\n",
       " 'my_model.pkl_614.npy',\n",
       " 'my_model.pkl_615.npy',\n",
       " 'my_model.pkl_616.npy',\n",
       " 'my_model.pkl_617.npy',\n",
       " 'my_model.pkl_618.npy',\n",
       " 'my_model.pkl_619.npy',\n",
       " 'my_model.pkl_620.npy',\n",
       " 'my_model.pkl_621.npy',\n",
       " 'my_model.pkl_622.npy',\n",
       " 'my_model.pkl_623.npy',\n",
       " 'my_model.pkl_624.npy',\n",
       " 'my_model.pkl_625.npy',\n",
       " 'my_model.pkl_626.npy',\n",
       " 'my_model.pkl_627.npy',\n",
       " 'my_model.pkl_628.npy',\n",
       " 'my_model.pkl_629.npy',\n",
       " 'my_model.pkl_630.npy',\n",
       " 'my_model.pkl_631.npy',\n",
       " 'my_model.pkl_632.npy',\n",
       " 'my_model.pkl_633.npy',\n",
       " 'my_model.pkl_634.npy',\n",
       " 'my_model.pkl_635.npy',\n",
       " 'my_model.pkl_636.npy',\n",
       " 'my_model.pkl_637.npy',\n",
       " 'my_model.pkl_638.npy',\n",
       " 'my_model.pkl_639.npy',\n",
       " 'my_model.pkl_640.npy',\n",
       " 'my_model.pkl_641.npy',\n",
       " 'my_model.pkl_642.npy',\n",
       " 'my_model.pkl_643.npy',\n",
       " 'my_model.pkl_644.npy',\n",
       " 'my_model.pkl_645.npy',\n",
       " 'my_model.pkl_646.npy',\n",
       " 'my_model.pkl_647.npy',\n",
       " 'my_model.pkl_648.npy',\n",
       " 'my_model.pkl_649.npy',\n",
       " 'my_model.pkl_650.npy',\n",
       " 'my_model.pkl_651.npy',\n",
       " 'my_model.pkl_652.npy',\n",
       " 'my_model.pkl_653.npy',\n",
       " 'my_model.pkl_654.npy',\n",
       " 'my_model.pkl_655.npy',\n",
       " 'my_model.pkl_656.npy',\n",
       " 'my_model.pkl_657.npy',\n",
       " 'my_model.pkl_658.npy',\n",
       " 'my_model.pkl_659.npy',\n",
       " 'my_model.pkl_660.npy',\n",
       " 'my_model.pkl_661.npy',\n",
       " 'my_model.pkl_662.npy',\n",
       " 'my_model.pkl_663.npy',\n",
       " 'my_model.pkl_664.npy',\n",
       " 'my_model.pkl_665.npy',\n",
       " 'my_model.pkl_666.npy',\n",
       " 'my_model.pkl_667.npy',\n",
       " 'my_model.pkl_668.npy',\n",
       " 'my_model.pkl_669.npy',\n",
       " 'my_model.pkl_670.npy',\n",
       " 'my_model.pkl_671.npy',\n",
       " 'my_model.pkl_672.npy',\n",
       " 'my_model.pkl_673.npy',\n",
       " 'my_model.pkl_674.npy',\n",
       " 'my_model.pkl_675.npy',\n",
       " 'my_model.pkl_676.npy',\n",
       " 'my_model.pkl_677.npy',\n",
       " 'my_model.pkl_678.npy',\n",
       " 'my_model.pkl_679.npy',\n",
       " 'my_model.pkl_680.npy',\n",
       " 'my_model.pkl_681.npy',\n",
       " 'my_model.pkl_682.npy',\n",
       " 'my_model.pkl_683.npy',\n",
       " 'my_model.pkl_684.npy',\n",
       " 'my_model.pkl_685.npy',\n",
       " 'my_model.pkl_686.npy',\n",
       " 'my_model.pkl_687.npy',\n",
       " 'my_model.pkl_688.npy',\n",
       " 'my_model.pkl_689.npy',\n",
       " 'my_model.pkl_690.npy',\n",
       " 'my_model.pkl_691.npy',\n",
       " 'my_model.pkl_692.npy',\n",
       " 'my_model.pkl_693.npy',\n",
       " 'my_model.pkl_694.npy',\n",
       " 'my_model.pkl_695.npy',\n",
       " 'my_model.pkl_696.npy',\n",
       " 'my_model.pkl_697.npy',\n",
       " 'my_model.pkl_698.npy',\n",
       " 'my_model.pkl_699.npy',\n",
       " 'my_model.pkl_700.npy',\n",
       " 'my_model.pkl_701.npy',\n",
       " 'my_model.pkl_702.npy',\n",
       " 'my_model.pkl_703.npy',\n",
       " 'my_model.pkl_704.npy',\n",
       " 'my_model.pkl_705.npy',\n",
       " 'my_model.pkl_706.npy',\n",
       " 'my_model.pkl_707.npy',\n",
       " 'my_model.pkl_708.npy',\n",
       " 'my_model.pkl_709.npy',\n",
       " 'my_model.pkl_710.npy',\n",
       " 'my_model.pkl_711.npy',\n",
       " 'my_model.pkl_712.npy',\n",
       " 'my_model.pkl_713.npy',\n",
       " 'my_model.pkl_714.npy',\n",
       " 'my_model.pkl_715.npy',\n",
       " 'my_model.pkl_716.npy',\n",
       " 'my_model.pkl_717.npy',\n",
       " 'my_model.pkl_718.npy',\n",
       " 'my_model.pkl_719.npy',\n",
       " 'my_model.pkl_720.npy',\n",
       " 'my_model.pkl_721.npy',\n",
       " 'my_model.pkl_722.npy',\n",
       " 'my_model.pkl_723.npy',\n",
       " 'my_model.pkl_724.npy',\n",
       " 'my_model.pkl_725.npy',\n",
       " 'my_model.pkl_726.npy',\n",
       " 'my_model.pkl_727.npy',\n",
       " 'my_model.pkl_728.npy',\n",
       " 'my_model.pkl_729.npy',\n",
       " 'my_model.pkl_730.npy',\n",
       " 'my_model.pkl_731.npy',\n",
       " 'my_model.pkl_732.npy',\n",
       " 'my_model.pkl_733.npy',\n",
       " 'my_model.pkl_734.npy',\n",
       " 'my_model.pkl_735.npy',\n",
       " 'my_model.pkl_736.npy',\n",
       " 'my_model.pkl_737.npy',\n",
       " 'my_model.pkl_738.npy',\n",
       " 'my_model.pkl_739.npy',\n",
       " 'my_model.pkl_740.npy',\n",
       " 'my_model.pkl_741.npy',\n",
       " 'my_model.pkl_742.npy',\n",
       " 'my_model.pkl_743.npy',\n",
       " 'my_model.pkl_744.npy',\n",
       " 'my_model.pkl_745.npy',\n",
       " 'my_model.pkl_746.npy',\n",
       " 'my_model.pkl_747.npy',\n",
       " 'my_model.pkl_748.npy',\n",
       " 'my_model.pkl_749.npy',\n",
       " 'my_model.pkl_750.npy',\n",
       " 'my_model.pkl_751.npy',\n",
       " 'my_model.pkl_752.npy',\n",
       " 'my_model.pkl_753.npy',\n",
       " 'my_model.pkl_754.npy',\n",
       " 'my_model.pkl_755.npy',\n",
       " 'my_model.pkl_756.npy',\n",
       " 'my_model.pkl_757.npy',\n",
       " 'my_model.pkl_758.npy',\n",
       " 'my_model.pkl_759.npy',\n",
       " 'my_model.pkl_760.npy',\n",
       " 'my_model.pkl_761.npy',\n",
       " 'my_model.pkl_762.npy',\n",
       " 'my_model.pkl_763.npy',\n",
       " 'my_model.pkl_764.npy',\n",
       " 'my_model.pkl_765.npy',\n",
       " 'my_model.pkl_766.npy',\n",
       " 'my_model.pkl_767.npy',\n",
       " 'my_model.pkl_768.npy',\n",
       " 'my_model.pkl_769.npy',\n",
       " 'my_model.pkl_770.npy',\n",
       " 'my_model.pkl_771.npy',\n",
       " 'my_model.pkl_772.npy',\n",
       " 'my_model.pkl_773.npy',\n",
       " 'my_model.pkl_774.npy',\n",
       " 'my_model.pkl_775.npy',\n",
       " 'my_model.pkl_776.npy',\n",
       " 'my_model.pkl_777.npy',\n",
       " 'my_model.pkl_778.npy',\n",
       " 'my_model.pkl_779.npy',\n",
       " 'my_model.pkl_780.npy',\n",
       " 'my_model.pkl_781.npy',\n",
       " 'my_model.pkl_782.npy',\n",
       " 'my_model.pkl_783.npy',\n",
       " 'my_model.pkl_784.npy',\n",
       " 'my_model.pkl_785.npy',\n",
       " 'my_model.pkl_786.npy',\n",
       " 'my_model.pkl_787.npy',\n",
       " 'my_model.pkl_788.npy',\n",
       " 'my_model.pkl_789.npy',\n",
       " 'my_model.pkl_790.npy',\n",
       " 'my_model.pkl_791.npy',\n",
       " 'my_model.pkl_792.npy',\n",
       " 'my_model.pkl_793.npy',\n",
       " 'my_model.pkl_794.npy',\n",
       " 'my_model.pkl_795.npy',\n",
       " 'my_model.pkl_796.npy',\n",
       " 'my_model.pkl_797.npy',\n",
       " 'my_model.pkl_798.npy',\n",
       " 'my_model.pkl_799.npy',\n",
       " 'my_model.pkl_800.npy',\n",
       " 'my_model.pkl_801.npy',\n",
       " 'my_model.pkl_802.npy',\n",
       " 'my_model.pkl_803.npy',\n",
       " 'my_model.pkl_804.npy',\n",
       " 'my_model.pkl_805.npy',\n",
       " 'my_model.pkl_806.npy',\n",
       " 'my_model.pkl_807.npy',\n",
       " 'my_model.pkl_808.npy',\n",
       " 'my_model.pkl_809.npy',\n",
       " 'my_model.pkl_810.npy',\n",
       " 'my_model.pkl_811.npy',\n",
       " 'my_model.pkl_812.npy',\n",
       " 'my_model.pkl_813.npy',\n",
       " 'my_model.pkl_814.npy',\n",
       " 'my_model.pkl_815.npy',\n",
       " 'my_model.pkl_816.npy',\n",
       " 'my_model.pkl_817.npy',\n",
       " 'my_model.pkl_818.npy',\n",
       " 'my_model.pkl_819.npy',\n",
       " 'my_model.pkl_820.npy',\n",
       " 'my_model.pkl_821.npy',\n",
       " 'my_model.pkl_822.npy',\n",
       " 'my_model.pkl_823.npy',\n",
       " 'my_model.pkl_824.npy',\n",
       " 'my_model.pkl_825.npy',\n",
       " 'my_model.pkl_826.npy',\n",
       " 'my_model.pkl_827.npy',\n",
       " 'my_model.pkl_828.npy',\n",
       " 'my_model.pkl_829.npy',\n",
       " 'my_model.pkl_830.npy',\n",
       " 'my_model.pkl_831.npy',\n",
       " 'my_model.pkl_832.npy',\n",
       " 'my_model.pkl_833.npy',\n",
       " 'my_model.pkl_834.npy',\n",
       " 'my_model.pkl_835.npy',\n",
       " 'my_model.pkl_836.npy',\n",
       " 'my_model.pkl_837.npy',\n",
       " 'my_model.pkl_838.npy',\n",
       " 'my_model.pkl_839.npy',\n",
       " 'my_model.pkl_840.npy',\n",
       " 'my_model.pkl_841.npy',\n",
       " 'my_model.pkl_842.npy',\n",
       " 'my_model.pkl_843.npy',\n",
       " 'my_model.pkl_844.npy',\n",
       " 'my_model.pkl_845.npy',\n",
       " 'my_model.pkl_846.npy',\n",
       " 'my_model.pkl_847.npy',\n",
       " 'my_model.pkl_848.npy',\n",
       " 'my_model.pkl_849.npy',\n",
       " 'my_model.pkl_850.npy',\n",
       " 'my_model.pkl_851.npy',\n",
       " 'my_model.pkl_852.npy',\n",
       " 'my_model.pkl_853.npy',\n",
       " 'my_model.pkl_854.npy',\n",
       " 'my_model.pkl_855.npy',\n",
       " 'my_model.pkl_856.npy',\n",
       " 'my_model.pkl_857.npy',\n",
       " 'my_model.pkl_858.npy',\n",
       " 'my_model.pkl_859.npy',\n",
       " 'my_model.pkl_860.npy',\n",
       " 'my_model.pkl_861.npy',\n",
       " 'my_model.pkl_862.npy',\n",
       " 'my_model.pkl_863.npy',\n",
       " 'my_model.pkl_864.npy',\n",
       " 'my_model.pkl_865.npy',\n",
       " 'my_model.pkl_866.npy',\n",
       " 'my_model.pkl_867.npy',\n",
       " 'my_model.pkl_868.npy',\n",
       " 'my_model.pkl_869.npy',\n",
       " 'my_model.pkl_870.npy',\n",
       " 'my_model.pkl_871.npy',\n",
       " 'my_model.pkl_872.npy',\n",
       " 'my_model.pkl_873.npy',\n",
       " 'my_model.pkl_874.npy',\n",
       " 'my_model.pkl_875.npy',\n",
       " 'my_model.pkl_876.npy',\n",
       " 'my_model.pkl_877.npy',\n",
       " 'my_model.pkl_878.npy',\n",
       " 'my_model.pkl_879.npy',\n",
       " 'my_model.pkl_880.npy',\n",
       " 'my_model.pkl_881.npy',\n",
       " 'my_model.pkl_882.npy',\n",
       " 'my_model.pkl_883.npy',\n",
       " 'my_model.pkl_884.npy',\n",
       " 'my_model.pkl_885.npy',\n",
       " 'my_model.pkl_886.npy',\n",
       " 'my_model.pkl_887.npy',\n",
       " 'my_model.pkl_888.npy',\n",
       " 'my_model.pkl_889.npy',\n",
       " 'my_model.pkl_890.npy',\n",
       " 'my_model.pkl_891.npy',\n",
       " 'my_model.pkl_892.npy',\n",
       " 'my_model.pkl_893.npy',\n",
       " 'my_model.pkl_894.npy',\n",
       " 'my_model.pkl_895.npy',\n",
       " 'my_model.pkl_896.npy',\n",
       " 'my_model.pkl_897.npy',\n",
       " 'my_model.pkl_898.npy',\n",
       " 'my_model.pkl_899.npy',\n",
       " 'my_model.pkl_900.npy',\n",
       " 'my_model.pkl_901.npy',\n",
       " 'my_model.pkl_902.npy']"
      ]
     },
     "execution_count": 387,
     "metadata": {},
     "output_type": "execute_result"
    }
   ],
   "source": [
    "from sklearn.externals import joblib\n",
    "joblib.dump(pipe_rf, 'my_model.pkl')"
   ]
  }
 ],
 "metadata": {
  "kernelspec": {
   "display_name": "Python 2",
   "language": "python",
   "name": "python2"
  },
  "language_info": {
   "codemirror_mode": {
    "name": "ipython",
    "version": 2
   },
   "file_extension": ".py",
   "mimetype": "text/x-python",
   "name": "python",
   "nbconvert_exporter": "python",
   "pygments_lexer": "ipython2",
   "version": "2.7.13"
  }
 },
 "nbformat": 4,
 "nbformat_minor": 0
}
